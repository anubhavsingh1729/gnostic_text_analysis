{
 "cells": [
  {
   "cell_type": "code",
   "execution_count": 95,
   "id": "d608dc8e",
   "metadata": {},
   "outputs": [],
   "source": [
    "import pandas as pd\n",
    "import json"
   ]
  },
  {
   "cell_type": "code",
   "execution_count": 139,
   "id": "905d230b",
   "metadata": {},
   "outputs": [],
   "source": [
    "with open(\"gnostic.json\",\"r\") as f:\n",
    "    txt = json.load(f)"
   ]
  },
  {
   "cell_type": "code",
   "execution_count": 101,
   "id": "37d19151-eea6-4786-ac18-a9b7ee7e171a",
   "metadata": {
    "scrolled": true
   },
   "outputs": [
    {
     "data": {
      "text/plain": [
       "dict_keys(['The Prayer of Apostle Paul', 'The Apocryphon of James', 'The Gospel of Truth', 'The Treatise on the Resurrection', 'The Tripartite Tractate', 'The Apocryphon of John', 'Gospel of Thomas', 'The Gospel of Philip', 'The Hypostasis of The Archons', 'On the Origin of the World', 'The Exegesis on the Soul', 'The Book of Thomas the Contender', 'The Gospel of the Egyptians', 'Eugnostos the Blessed', 'The Sophia of Jesus Christ', 'The Dialogue of the Savior', 'The Apocalypse of Paul', 'The (First) Apocalypse of James ', 'The (Second) Apocalypse of James', 'The Apocalypse of Adam', 'The Acts of Peter and the Twelve Apostles', 'The Thunder, Perfect Mind ', 'Authoritative Teaching', 'The Concept of Our Great Power', 'Plato, Republic 588A-589B', 'The Discourse on the Eighth and Ninth', 'The Prayer of Thanksgiving', 'Asclepius 21-29', 'The Second Treatise of the Great Seth', 'The Apocalypse of Peter', 'The Teachings of Silvanus', 'The Three Steles of Seth', 'Zostrianos', 'The Letter of Peter to Philip', 'Melchizedek', 'The Thought of Norea', 'The Testimony of Truth', 'Marsanes', 'The Interpretation of Knowledge', 'A Valentinian Exposition', 'On the Anointing', 'On the Baptism A', 'On the Baptism B', 'On the Eucharist (A)', 'On the Eucharist (B)', 'Allogenes', 'Hypsiphrone', 'The Sentences of Sextus', 'Trimorphic Protennoia'])"
      ]
     },
     "execution_count": 101,
     "metadata": {},
     "output_type": "execute_result"
    }
   ],
   "source": [
    "txt.keys()"
   ]
  },
  {
   "cell_type": "code",
   "execution_count": 204,
   "id": "827e1cbb",
   "metadata": {},
   "outputs": [],
   "source": [
    "import re\n",
    "\n",
    "def clean_text(text,br):\n",
    "    # Remove all digits\n",
    "    text = text.split(br)[1].strip()\n",
    "    text = re.sub(r'\\d+', '', text)\n",
    "    # Replace multiple newlines with a space\n",
    "    text = re.sub(r'\\n+', ' ', text)\n",
    "    # Replace multiple spaces with a single space\n",
    "    text = re.sub(r'\\s+', ' ', text)\n",
    "\n",
    "    text = text.replace(\"Back to Contents\",\"\")\n",
    "    # Strip leading and trailing spaces\n",
    "    return text.strip()"
   ]
  },
  {
   "cell_type": "code",
   "execution_count": 125,
   "id": "86847183-cf51-49e7-8479-bbeca824e84d",
   "metadata": {
    "scrolled": true
   },
   "outputs": [
    {
     "name": "stdout",
     "output_type": "stream",
     "text": [
      "The Prayer of the Apostle Paul -- The Nag Hammadi Library The Nag Hammadi Library The Prayer of the Apostle Paul Translation by Dieter Mueller (Approximately two lines are missing.) ... your light, give me your mercy! My Redeemer, redeem me, for I am yours; the one who has come forth from you. You are my mind; bring me forth! You are my treasure house; open for me! You are my fullness; take me to you! You are (my) repose; give me the perfect thing that cannot be grasped! I invoke you, the one wh\n"
     ]
    },
    {
     "name": "stdin",
     "output_type": "stream",
     "text": [
      " Mueller\n"
     ]
    },
    {
     "name": "stdout",
     "output_type": "stream",
     "text": [
      "The Apocryphon of James (Williams Translation) -- The Nag Hammadi Library The Nag Hammadi Library The Apocryphon of James t ranslated by Francis E. Williams James writes to [...]: Peace be with you from Peace, love from Love, grace from Grace, faith from Faith, life from Holy Life! Since you asked that I send you a secret book which was revealed to me and Peter by the Lord, I could not turn you away or gainsay (?) you; but I have written it in the Hebrew alphabet and sent it to you, and you alon\n"
     ]
    },
    {
     "name": "stdin",
     "output_type": "stream",
     "text": [
      " Williams\n"
     ]
    },
    {
     "name": "stdout",
     "output_type": "stream",
     "text": [
      "The Gospel of Truth (Attridge & MacRae Translation) -- The Nag Hammadi Library The Nag Hammadi Library The Gospel of Truth Translated by Harold W. Attridge and George W. MacRae The gospel of truth is joy for those who have received from the Father of truth the grace of knowing him, through the power of the Word that came forth from the pleroma, the one who is in the thought and the mind of the Father, that is, the one who is addressed as 'the Savior', (that) being the name of the work he is to p\n"
     ]
    },
    {
     "name": "stdin",
     "output_type": "stream",
     "text": [
      " W. MacRae\n"
     ]
    },
    {
     "name": "stdout",
     "output_type": "stream",
     "text": [
      "The Treatise on the Resurrection -- The Nag Hammadi Library The Nag Hammadi Library The Treatise on the Resurrection Translated by Malcolm L. Peel Some there are, my son Rheginos, who want to learn many things. They have this goal when they are occupied with questions whose answer is lacking. If they succeed with these, they usually think very highly of themselves. But I do not think that they have stood within the Word of Truth. They seek rather their own rest, which we have received through ou\n"
     ]
    },
    {
     "name": "stdin",
     "output_type": "stream",
     "text": [
      " Peel\n"
     ]
    },
    {
     "name": "stdout",
     "output_type": "stream",
     "text": [
      "The Tripartite Tractate -- The Nag Hammadi Library The Nag Hammadi Library The Tripartite Tractate Translated by Harold W. Attridge and Dieter Mueller Part I . Introduction As for what we can say about the things which are exalted, what is fitting is that we begin with the Father, who is the root of the Totality, the one from whom we have received grace to speak about him. . The Father He existed before anything other than himself came into being. The Father is a single one, like a number, for h\n"
     ]
    },
    {
     "name": "stdin",
     "output_type": "stream",
     "text": [
      " Mueller\n"
     ]
    },
    {
     "name": "stdout",
     "output_type": "stream",
     "text": [
      "The Apocryphon of John - The Nag Hammadi Library The Nag Hammadi Library The Apocryphon of John Secret Book of John , t ranslated by Frederik Wisse The teaching of the savior, and the revelation of the mysteries and the things hidden in silence, even these things which he taught John, his disciple. And it happened one day, when John, the brother of James - who are the sons of Zebedee - had come up to the temple, that a Pharisee named Arimanius approached him and said to him, \"Where is your maste\n"
     ]
    },
    {
     "name": "stdin",
     "output_type": "stream",
     "text": [
      " Wisse\n"
     ]
    },
    {
     "name": "stdout",
     "output_type": "stream",
     "text": [
      "Gospel of Thomas (Lambdin Translation) -- The Nag Hammadi Library The Nag Hammadi Library The Gospel of Thomas Translated by Thomas O. Lambdin These are the secret sayings which the living Jesus spoke and which Didymos Judas Thomas wrote down. () And he said, \"Whoever finds the interpretation of these sayings will not experience death.\" () Jesus said, \"Let him who seeks continue seeking until he finds. When he finds, he will become troubled. When he becomes troubled, he will be astonished, and h\n"
     ]
    },
    {
     "name": "stdin",
     "output_type": "stream",
     "text": [
      " O. Lambdin\n"
     ]
    },
    {
     "name": "stdout",
     "output_type": "stream",
     "text": [
      "The Gospel of Philip -- The Nag Hammadi Library The Nag Hammadi Library The Gospel of Philip Translated by Wesley W. Isenberg A Hebrew makes another Hebrew, and such a person is called \"proselyte\". But a proselyte does not make another proselyte. [...] just as they [...] and make others like themselves, while others simply exist. The slave seeks only to be free, but he does not hope to acquire the estate of his master. But the son is not only a son but lays claim to the inheritance of the father\n"
     ]
    },
    {
     "name": "stdin",
     "output_type": "stream",
     "text": [
      " Isenberg\n"
     ]
    },
    {
     "name": "stdout",
     "output_type": "stream",
     "text": [
      "The Hypostasis of The Archons - The Reality of The Rulers Registration-Inscripción The Nag Hammadi Library The Hypostasis of... T he Archons - The Reality of the Rulers - translated by Bentley Layton Spanish version On account of the reality of the authorities, (inspired) by the spirit of the father of truth, the great apostle - referring to the \"authorities of the darkness\" - told us that \"our contest is not against flesh and blood; rather, the authorities of the universe and the spirits of wic\n"
     ]
    },
    {
     "name": "stdin",
     "output_type": "stream",
     "text": [
      " version\n"
     ]
    },
    {
     "name": "stdout",
     "output_type": "stream",
     "text": [
      "On the Origin of the World -- The Nag Hammadi Library The Nag Hammadi Library On the Origin of the World (\"The Untitled Text\") Translated by Hans-Gebhard Bethge and Bentley Layton Seeing that everybody, gods of the world and mankind, says that nothing existed prior to chaos, I, in distinction to them, shall demonstrate that they are all mistaken, because they are not acquainted with the origin of chaos, nor with its root. Here is the demonstration. How well it suits all men, on the subject of ch\n"
     ]
    },
    {
     "name": "stdin",
     "output_type": "stream",
     "text": [
      " Layton\n"
     ]
    },
    {
     "name": "stdout",
     "output_type": "stream",
     "text": [
      "The Exegesis on the Soul -- The Nag Hammadi Library The Nag Hammadi Library The Exegesis on the Soul Translated by William C. Robinson Jr. Wise men of old gave the soul a feminine name. Indeed she is female in her nature as well. She even has her womb. As long as she was alone with the father, she was virgin and in form androgynous. But when she fell down into a body and came to this life, then she fell into the hands of many robbers. And the wanton creatures passed her from one to another and [\n"
     ]
    },
    {
     "name": "stdin",
     "output_type": "stream",
     "text": [
      " Jr.\n"
     ]
    },
    {
     "name": "stdout",
     "output_type": "stream",
     "text": [
      "The Book of Thomas the Contender -- The Nag Hammadi Library The Nag Hammadi Library The Book of Thomas the Contender Translated by John D. Turner The secret words that the savior spoke to Judas Thomas which I, even I, Mathaias, wrote down, while I was walking, listening to them speak with one another. The savior said, \"Brother Thomas while you have time in the world, listen to me, and I will reveal to you the things you have pondered in your mind. \"Now, since it has been said that you are my twi\n"
     ]
    },
    {
     "name": "stdin",
     "output_type": "stream",
     "text": [
      " Turner\n"
     ]
    },
    {
     "name": "stdout",
     "output_type": "stream",
     "text": [
      "The Gospel of the Egyptians -- The Nag Hammadi Library The Nag Hammadi Library The Gospel of the Egyptians Translated by Alexander Bohlig and Frederik Wisse The holy book of the Egyptians about the great invisible Spirit, the Father whose name cannot be uttered, he who came forth from the heights of the perfection, the light of the light of the aeons of light, the light of the silence of the providence <and> the Father of the silence, the light of the word and the truth, the light of the incorru\n"
     ]
    },
    {
     "name": "stdin",
     "output_type": "stream",
     "text": [
      " Wisse\n"
     ]
    },
    {
     "name": "stdout",
     "output_type": "stream",
     "text": [
      "Eugnostos the Blessed -- The Nag Hammadi Library The Nag Hammadi Library Eugnostos the Blessed Translated by Douglas M. Parrott (combining III, and V,) Eugnostos, the Blessed, to those who are his. Rejoice in this, that you know. Greetings! I want you to know that all men born from the foundation of the world until now are dust. While they have inquired about God, who he is and what he is like, they have not found him. The wisest among them have speculated about the truth from the ordering of th\n"
     ]
    },
    {
     "name": "stdin",
     "output_type": "stream",
     "text": [
      " ,)\n"
     ]
    },
    {
     "name": "stdout",
     "output_type": "stream",
     "text": [
      "The Sophia of Jesus Christ -- The Nag Hammadi Library The Nag Hammadi Library The Sophia of Jesus Christ Translated by Douglas M. Parrott The Sophia (Wisdom) of Jesus Christ After he rose from the dead, his twelve disciples and seven women continued to be his followers, and went to Galilee onto the mountain called \"Divination and Joy\". When they gathered together and were perplexed about the underlying reality of the universe and the plan, and the holy providence, and the power of the authoritie\n"
     ]
    },
    {
     "name": "stdin",
     "output_type": "stream",
     "text": [
      " Parrott\n"
     ]
    },
    {
     "name": "stdout",
     "output_type": "stream",
     "text": [
      "The Dialogue of the Savior -- The Nag Hammadi Library The Nag Hammadi Library The Dialogue of the Savior Translated by Stephen Emmel The Savior said to his disciples, \"Already the time has come, brothers, for us to abandon our labor and stand at rest. For whoever stands at rest will rest forever. And I say to you, be always above [...] time [...] you [...] be afraid of [...] you [...] anger is fearful [...] arouse anger [...] but since you have [...] they accepted these words concerning it with \n"
     ]
    },
    {
     "name": "stdin",
     "output_type": "stream",
     "text": [
      " Emmel\n"
     ]
    },
    {
     "name": "stdout",
     "output_type": "stream",
     "text": [
      "The Apocalypse of Paul -- The Nag Hammadi Library The Nag Hammadi Library The Apocalypse of Paul Translated by George W. MacRae and William R. Murdock [...] the road. And he spoke to him, saying, \"By which road shall I go up to Jerusalem?\" The little child replied, saying, \"Say your name, so that I may show you the road\". The little child knew who Paul was. He wished to make conversation with him through his words in order that he might find an excuse for speaking with him. The little child spok\n"
     ]
    },
    {
     "name": "stdin",
     "output_type": "stream",
     "text": [
      " Murdock\n"
     ]
    },
    {
     "name": "stdout",
     "output_type": "stream",
     "text": [
      "The (First) Apocalypse of James -- The Nag Hammadi Library The Nag Hammadi Library The (First) Apocalypse of James Translated by William R. Schoedel It is the Lord who spoke with me: \"See now the completion of my redemption. I have given you a sign of these things, James, my brother. For not without reason have I called you my brother, although you are not my brother materially. And I am not ignorant concerning you; so that when I give you a sign - know and hear.\" \"Nothing existed except Him-who\n"
     ]
    },
    {
     "name": "stdin",
     "output_type": "stream",
     "text": [
      " Schoedel\n"
     ]
    },
    {
     "name": "stdout",
     "output_type": "stream",
     "text": [
      "The (Second) Apocalypse of James -- The Nag Hammadi Library The Nag Hammadi Library The (Second) Apocalypse of James Translated by Charles W. Hedrick This is the discourse that James the Just spoke in Jerusalem, which Mareim, one of the priests, wrote. He had told it to Theuda, the father of the Just One, since he was a relative of his. He said, \"Hasten! Come with Mary, your wife, and your relatives [...] therefore [...] of this [...] to him, he will understand. For behold, a multitude are distu\n"
     ]
    },
    {
     "name": "stdin",
     "output_type": "stream",
     "text": [
      " Hedrick\n"
     ]
    },
    {
     "name": "stdout",
     "output_type": "stream",
     "text": [
      "The Apocalypse of Adam -- The Nag Hammadi Library The Nag Hammadi Library The Apocalypse of Adam Translated by George W. MacRae The revelation which Adam taught his son Seth in the seven hundreth year, saying: Listen to my words, my son Seth. When God had created me out of the earth, along with Eve, your mother, I went about with her in a glory which she had seen in the aeon from which we had come forth. She taught me a word of knowledge of the eternal God. And we resembled the great eternal ang\n"
     ]
    },
    {
     "name": "stdin",
     "output_type": "stream",
     "text": [
      " MacRae\n"
     ]
    },
    {
     "name": "stdout",
     "output_type": "stream",
     "text": [
      "The Acts of Peter and the Twelve Apostles -- The Nag Hammadi Library The Nag Hammadi Library The Acts of Peter and the Twelve Apostles Translated by Douglas M. Parrott and R. McL.Wilson [...] which [...] purpose [... after ...] us [...] apostles [...]. We sailed [...] of the body. Others were not anxious in their hearts. And in our hearts, we were united. We agreed to fulfill the ministry to which the Lord appointed us. And we made a covenant with each other. We went down to the sea at an opport\n"
     ]
    },
    {
     "name": "stdin",
     "output_type": "stream",
     "text": [
      " McL.Wilson\n"
     ]
    },
    {
     "name": "stdout",
     "output_type": "stream",
     "text": [
      "The Thunder, Perfect Mind -- The Nag Hammadi Library The Nag Hammadi Library The Thunder, Perfect Mind Translated by George W. MacRae I was sent forth from the power, and I have come to those who reflect upon me, and I have been found among those who seek after me. Look upon me, you who reflect upon me, and you hearers, hear me. You who are waiting for me, take me to yourselves. And do not banish me from your sight. And do not make your voice hate me, nor your hearing. Do not be ignorant of me a\n"
     ]
    },
    {
     "name": "stdin",
     "output_type": "stream",
     "text": [
      " MacRae\n"
     ]
    },
    {
     "name": "stdout",
     "output_type": "stream",
     "text": [
      "Authoritative Teaching -- The Nag Hammadi Library The Nag Hammadi Library Authoritative Teaching Translated by George W. MacRae [...] in heaven [...] within him [...] anyone appears [...] the hidden heavens [...] appear, and before the invisible, ineffable worlds appeared. From these the invisible soul of righteousness came, being a fellow member, and a fellow body, and a fellow spirit. Whether she is in the descent or is in the Pleroma, she is not separated from them, but they see her and she l\n"
     ]
    },
    {
     "name": "stdin",
     "output_type": "stream",
     "text": [
      " MacRae\n"
     ]
    },
    {
     "name": "stdout",
     "output_type": "stream",
     "text": [
      "The Concept of Our Great Power -- The Nag Hammadi Library The Nag Hammadi Library The Concept of Our Great Power Translated by Frederik Wisse The Perception of Understanding The Concept of the Great Power He who will know our great Power will become invisible, and fire will not be able to consume him. But it will purge and destroy all of your possessions. For everyone in whom my form will appear will be saved, from (the age of) seven days up to one hundred and twenty years. (Those) whom I constr\n"
     ]
    },
    {
     "name": "stdin",
     "output_type": "stream",
     "text": [
      " Wisse\n"
     ]
    },
    {
     "name": "stdout",
     "output_type": "stream",
     "text": [
      "Plato, Republic A-B -- The Nag Hammadi Library The Nag Hammadi Library Plato, Republic A-B Translated by James Brashler \"Since we have come to this point in a discussion, let us again take up the first things that were said to us. And we will find that he says, 'Good is he who has been done injustice completely. He is glorified justly.' Is not this how he was reproached?\" \"This is certainly the fitting way!\" And I said, \"Now then, we have spoken because he said that he who does injustice and he \n"
     ]
    },
    {
     "name": "stdin",
     "output_type": "stream",
     "text": [
      " Brashler\n"
     ]
    },
    {
     "name": "stdout",
     "output_type": "stream",
     "text": [
      "The Discourse on the Eighth and Ninth -- The Nag Hammadi Library The Nag Hammadi Library The Discourse on the Eighth and Ninth Translated by James Brashler, Peter A. Dirkse, and Douglas M. Parrott \"My father, yesterday you promised me that you would bring my mind into the eighth and afterwards you would bring me into the ninth. You said that this is the order of the tradition.\" \"My son, indeed this is the order. But the promise was according to human nature. For I told you when I initiated the p\n"
     ]
    },
    {
     "name": "stdin",
     "output_type": "stream",
     "text": [
      " Parrott\n"
     ]
    },
    {
     "name": "stdout",
     "output_type": "stream",
     "text": [
      "The Prayer of Thanksgiving -- The Nag Hammadi Library The Nag Hammadi Library The Prayer of Thanksgiving Translated by James Brashler, Peter A. Dirkse and Douglas M. Parrott This the prayer that they spoke: \"We give thanks to You! Every soul and heart is lifted up to You, undisturbed name, honored with the name 'God' and praised with the name 'Father', for to everyone and everything (comes) the fatherly kindness and affection and love, and any teaching there may be that is sweet and plain, givin\n"
     ]
    },
    {
     "name": "stdin",
     "output_type": "stream",
     "text": [
      " Parrott\n"
     ]
    },
    {
     "name": "stdout",
     "output_type": "stream",
     "text": [
      "Asclepius - -- The Nag Hammadi Library The Nag Hammadi Library Asclepius - Translated by James Brashler, Peter A. Dirkse, and Douglas M. Parrott \"And if you (Asclepius) wish to see the reality of this mystery, then you should see the wonderful representation of the intercourse that takes place between the male and the female. For when the semen reaches the climax, it leaps forth. In that moment, the female receives the strength of the male; the male, for his part, receives the strength of the fe\n"
     ]
    },
    {
     "name": "stdin",
     "output_type": "stream",
     "text": [
      " Parrott\n"
     ]
    },
    {
     "name": "stdout",
     "output_type": "stream",
     "text": [
      "The Second Treatise of the Great Seth -- The Nag Hammadi Library The Nag Hammadi Library The Second Treatise of the Great Seth Translated by Roger A. Bullard and Joseph A. Gibbons And the perfect Majesty is at rest in the ineffable light, in the truth of the mother of all these, and all of you that attain to me, to me alone who am perfect, because of the Word. For I exist with all the greatness of the Spirit, which is a friend to us and our kindred alike, since I brought forth a word to the glor\n"
     ]
    },
    {
     "name": "stdin",
     "output_type": "stream",
     "text": [
      " Gibbons\n"
     ]
    },
    {
     "name": "stdout",
     "output_type": "stream",
     "text": [
      "The Apocalypse of Peter -- The Nag Hammadi Library The Nag Hammadi Library The Apocalypse of Peter Translated by James Brashler and Roger A. Bullard As the Savior was sitting in the temple in the three hundredth (year) of the covenant and the agreement of the tenth pillar, and being satisfied with the number of the living, incorruptible Majesty, he said to me, \"Peter, blessed are those above belonging to the Father, who revealed life to those who are from the life, through me, since I reminded t\n"
     ]
    },
    {
     "name": "stdin",
     "output_type": "stream",
     "text": [
      " Bullard\n"
     ]
    },
    {
     "name": "stdout",
     "output_type": "stream",
     "text": [
      "The Teachings of Silvanus -- The Nag Hammadi Library The Nag Hammadi Library The Teachings of Silvanus Translated by Malcolm L. Peel and Jan Zandee Abolish every childish time of life, acquire for yourself strength of mind and soul, and intensify the struggle against every folly of the passions of love and base wickedness, and love of praise, and fondness of contention, and tiresome jealousy and wrath, and anger and the desire of avarice. Guard your (pl.) camp and weapons and spears. Arm yoursel\n"
     ]
    },
    {
     "name": "stdin",
     "output_type": "stream",
     "text": [
      " Zandee\n"
     ]
    },
    {
     "name": "stdout",
     "output_type": "stream",
     "text": [
      "The Three Steles of Seth -- The Nag Hammadi Library The Nag Hammadi Library The Three Steles of Seth Translated by James R. Robinson The revelation of Dositheos about the three steles of Seth, the Father of the living and unshakable race, which he (Dositheos) saw and understood. And after he had read them, he remembered them. And he gave them to the elect, just as they were inscribed there. Many times I joined in giving glory with the powers, and I became worthy of the immeasurable majesties. No\n"
     ]
    },
    {
     "name": "stdin",
     "output_type": "stream",
     "text": [
      " Robinson\n"
     ]
    },
    {
     "name": "stdout",
     "output_type": "stream",
     "text": [
      "Zostrianos -- The Nag Hammadi Library The Nag Hammadi Library Zostrianos Translated by John N. Sieber Note: The small bold numbers represent pages in the original manuscript. [...] of the [...] the words [...] live forever, these I [...] Zostrianos [...] and [...] and Iolaos, when I was in the world for these like me and [those] after me, [the] living elect. As God lives, [...] the truth with truth and knowledge and eternal light. After I parted from the somatic darkness in me and the psychic ch\n"
     ]
    },
    {
     "name": "stdin",
     "output_type": "stream",
     "text": [
      " manuscript\n"
     ]
    },
    {
     "name": "stdout",
     "output_type": "stream",
     "text": [
      "The Letter of Peter to Philip -- The Nag Hammadi Library The Nag Hammadi Library The Letter of Peter to Philip Translated by Frederik Wisse The Letter of Peter which he sent to Philip \"Peter, the apostle of Jesus Christ, to Philip, our beloved brother and our fellow apostle, and (to) the brethren who are with you: greetings! Now I want you to know, our brother, that we received orders from our Lord and the Savior of the whole world that we should come together to give instruction and preach in t\n"
     ]
    },
    {
     "name": "stdin",
     "output_type": "stream",
     "text": [
      " Wisse\n"
     ]
    },
    {
     "name": "stdout",
     "output_type": "stream",
     "text": [
      "Melchizedek -- The Nag Hammadi Library The Nag Hammadi Library Melchizedek Translated by Søren Giversen and Birger A. Pearson Jesus Christ, the Son of God [...] from ... ... ( lines unrecoverable) ... the aeons, that I might tell all of the aeons, and, in (the case of) each one of the aeons, that I might tell the nature of the aeon, what it is, and that I might put on friendship and goodness as a garment, O brother, [...] and ... ... ( lines unrecoverable) ... their end [...]. And he will reveal\n"
     ]
    },
    {
     "name": "stdin",
     "output_type": "stream",
     "text": [
      " Pearson\n"
     ]
    },
    {
     "name": "stdout",
     "output_type": "stream",
     "text": [
      "The Thought of Norea -- The Nag Hammadi Library The Nag Hammadi Library The Thought of Norea Translated by Søren Giversen and Birger A. Pearson Father of All, Ennoia of the Light, dwelling in the heights above the (regions) below, Light dwelling in the heights, Voice of Truth, upright Nous, untouchable Logos, and ineffable Voice, incomprehensible Father! It is Norea who cries out to them. They heard, (and) they received her into her place forever. They gave it to her in the Father of Nous, Adama\n"
     ]
    },
    {
     "name": "stdin",
     "output_type": "stream",
     "text": [
      " Pearson\n"
     ]
    },
    {
     "name": "stdout",
     "output_type": "stream",
     "text": [
      "The Testimony of Truth -- The Nag Hammadi Library The Nag Hammadi Library The Testimony of Truth Translated by Søren Giversen and Birger A. Pearson I will speak to those who know to hear not with the ears of the body but with the ears of the mind. For many have sought after the truth and have not been able to find it; because there has taken hold of them the old leaven of the Pharisees and the scribes of the Law. And the leaven is the errant desire of the angels and the demons and the stars. As \n"
     ]
    },
    {
     "name": "stdin",
     "output_type": "stream",
     "text": [
      " Pearson\n"
     ]
    },
    {
     "name": "stdout",
     "output_type": "stream",
     "text": [
      "Marsanes -- The Nag Hammadi Library The Nag Hammadi Library Marsanes Translated by Birger A. Pearson ... ( lines unrecoverable) ... and a reward. They came to know; they found him with a pure heart, (and) they are not afflicted by him with evils. Those who have received you (pl.) will be given their choice reward for endurance, and he will ward off the evils from them. But let none of us be distressed and think in his heart that the great Father [...]. For he looks upon the All and takes care of\n"
     ]
    },
    {
     "name": "stdin",
     "output_type": "stream",
     "text": [
      " Pearson\n"
     ]
    },
    {
     "name": "stdout",
     "output_type": "stream",
     "text": [
      "The Interpretation of Knowledge -- The Nag Hammadi Library The Nag Hammadi Library The Interpretation of Knowledge Translated by John D. Turner ( lines missing) ... they came to believe by means of signs and wonders and fabrications. The likeness that came to be through them followed him, but through reproaches and humiliations before they received the apprehension of a vision they fled without having heard that the Christ had been crucified. But our generation is fleeing since it does not yet e\n"
     ]
    },
    {
     "name": "stdin",
     "output_type": "stream",
     "text": [
      " Turner\n"
     ]
    },
    {
     "name": "stdout",
     "output_type": "stream",
     "text": [
      "A Valentinian Exposition -- The Nag Hammadi Library The Nag Hammadi Library A Valentinian Exposition Translated by John D. Turner [...] enter [...] the abundance [...] those who [...] I will speak my mystery to those who are mine and to those who will be mine. Moreover it is these who have known him who is, the Father, that is, the Root of the All, the Ineffable One who dwells in the Monad. He dwells alone in silence, and silence is tranquility since, after all, he was a Monad and no one was bef\n"
     ]
    },
    {
     "name": "stdin",
     "output_type": "stream",
     "text": [
      " Turner\n"
     ]
    },
    {
     "name": "stdout",
     "output_type": "stream",
     "text": [
      "On the Anointing On the Anointing Translated by John D. Turner [....] according to [....] the type of [...] see him. It is fitting for you at this time to send thy Son Jesus Christ and anoint us so we might be able to trample upon the snakes and the heads of the scorpions and all the power of the Devil since he is a shepherd of the seed. Through him we have known thee. And we glorify thee : Glory be to thee, the Father in the Son, the Father in the Son, the Father in the Holy Church and in the h\n"
     ]
    },
    {
     "name": "stdin",
     "output_type": "stream",
     "text": [
      " Turner\n"
     ]
    },
    {
     "name": "stdout",
     "output_type": "stream",
     "text": [
      "On the Baptism A On the Baptism A Translated by John D. Turner This is the fullness of the summary of knowledge which summary was revealed to us by our Lord Jesus Christ, the Monogenes. These are the sure and necessary items so that we may walk in them. But they are those of the first baptism [......The First] baptism is the Forgiveness of sins [...] said, [...] you to the [...] your sins the [...] is a pattern of the [...] of the Christ which is the equal of the [..within] him [...]. For the [.\n"
     ]
    },
    {
     "name": "stdin",
     "output_type": "stream",
     "text": [
      " Turner\n"
     ]
    },
    {
     "name": "stdout",
     "output_type": "stream",
     "text": [
      "On the Baptism B On the Baptism B Translated by John D.Turner [..... from the ] world into the Jordan and from the blindness of the world into the sight of God, from the carnal into the spiritual, from the physical into the angelic, from the created into the Pleroma, from the world into the Aeon, from the servitudes into sonship, from entanglements into one another, from the desert into our village, from the cold into the hot, from [...] into a [...] and we [...] into the [....thus] we were brou\n"
     ]
    },
    {
     "name": "stdin",
     "output_type": "stream",
     "text": [
      " Turner\n"
     ]
    },
    {
     "name": "stdout",
     "output_type": "stream",
     "text": [
      "On the Eucharist (A) On the Eucharist (A) Translated by John D. Turner We give thanks to you and we celebrate the eucharist, O Father, remembering for the sake of thy Son, Jesus Christ that they come forth [...] invisible [...] thy [Son....] his [love...] to [knowledge ......] they are doing thy will through the name of Jesus Christ and will do thy will now and always. They are complete in every spiritual gift and every purity. Glory be to thee through thy Son and they offspring Jesus Christ fro\n"
     ]
    },
    {
     "name": "stdin",
     "output_type": "stream",
     "text": [
      " Turner\n"
     ]
    },
    {
     "name": "stdout",
     "output_type": "stream",
     "text": [
      "On the Eucharist (B) On the Eucharist (B) Translation by John D. Turner [...] in the [...] the word of the [....the] holy one it is [...] food and [drink...] Son, since you [...] food of the [...] to us the [...] in the [life ..] he does [not boast...] that is[...] Church [...] you are pure [...] thou art the Lord. Whenever you die purely, you will be pure so as to have him [...] everyone who will guide him to food and drink. Glory be to thee forever. Amen. Excerpt taken from James R.Robinson, e\n"
     ]
    },
    {
     "name": "stdin",
     "output_type": "stream",
     "text": [
      " Turner\n"
     ]
    },
    {
     "name": "stdout",
     "output_type": "stream",
     "text": [
      "Allogenes -- The Nag Hammadi Library The Nag Hammadi Library Allogenes Translated by John D.Turner and Orval S. Wintermute ( lines missing) ... since they are perfect individuals and dwell all together, joined with the mind, the guardian which I provided, who taught you (sg.). And it is the power that exists within you that often extended itself as word from the Triple-Powered One, that One of all those who truly exist with the Immeasurable One, the eternal Light of the Knowledge that appeared, \n"
     ]
    },
    {
     "name": "stdin",
     "output_type": "stream",
     "text": [
      " Wintermute\n"
     ]
    },
    {
     "name": "stdout",
     "output_type": "stream",
     "text": [
      "Hypsiphrone -- The Nag Hammadi Library The Nag Hammadi Library Hypsiphrone Translated by John D. Turner The book concerning the things that were seen by Hypsiphrone being revealed in the place of her virginity. And she listens to her brethren [...] Phainops and [...], and they speak with one another in a mystery. Now I was first by individual ranking [...] I came forth to the place of my virginity and I went down to the world. Then I was told about them (by) those who abide in the place of my vi\n"
     ]
    },
    {
     "name": "stdin",
     "output_type": "stream",
     "text": [
      " Turner\n"
     ]
    },
    {
     "name": "stdout",
     "output_type": "stream",
     "text": [
      "The Sentences of Sextus -- The Nag Hammadi Library The Nag Hammadi Library The Sentences of Sextus Translated by Frederik Wisse () [...] is a sign of ignorance. (/) Love the truth, and the lie use like poison. () May the right time precede your words. (/) Speak when it is not proper to be silent, but speak concerning the things you know (only) then when it is fitting. (a) The untimely word is characteristic of an evil mind. (b) When it is proper to act, do not use a word. (a) Do not wish to spea\n"
     ]
    },
    {
     "name": "stdin",
     "output_type": "stream",
     "text": [
      " Wisse\n"
     ]
    },
    {
     "name": "stdout",
     "output_type": "stream",
     "text": [
      "Trimorphic Protennoia -- The Nag Hammadi Library The Nag Hammadi Library Trimorphic Protennoia Translated by John D. Turner I am Protennoia, the Thought that dwells in the Light. I am the movement that dwells in the All, she in whom the All takes its stand, the first-born among those who came to be, she who exists before the All. She (Protennoia) is called by three names, although she dwells alone, since she is perfect. I am invisible within the Thought of the Invisible One. I am revealed in the\n"
     ]
    },
    {
     "name": "stdin",
     "output_type": "stream",
     "text": [
      " Turner\n"
     ]
    }
   ],
   "source": [
    "for k,v in txt.items():\n",
    "    print(v[:500])\n",
    "    br = input()\n",
    "    ct = clean_text(v,br)\n",
    "    txt[k] = ct"
   ]
  },
  {
   "cell_type": "code",
   "execution_count": 135,
   "id": "3d88d9f4-50f8-4fbe-b0d9-625be01c2dc0",
   "metadata": {},
   "outputs": [
    {
     "data": {
      "text/plain": [
       "'Translation) -- The Nag Hammadi Library The Nag Hammadi Library The Apocryphon of James t ranslated by Francis E.'"
      ]
     },
     "execution_count": 135,
     "metadata": {},
     "output_type": "execute_result"
    }
   ],
   "source": [
    "txt['The Apocryphon of James']"
   ]
  },
  {
   "cell_type": "code",
   "execution_count": 159,
   "id": "cf2ad000-4fc9-4093-95d5-5c8dce5f215b",
   "metadata": {},
   "outputs": [],
   "source": [
    "with open(\"gnostic_clean.json\",\"w\") as f:\n",
    "    json.dump(txt,f)"
   ]
  },
  {
   "cell_type": "code",
   "execution_count": 222,
   "id": "cec8d443-ee43-48b0-85bf-6110876396f0",
   "metadata": {},
   "outputs": [],
   "source": [
    "with open(\"shem.txt\",\"r\",encoding='utf-8') as f:\n",
    "    shem = f.read()"
   ]
  },
  {
   "cell_type": "code",
   "execution_count": 252,
   "id": "9582ae4b-135d-42ac-9e1e-670c63dd9811",
   "metadata": {},
   "outputs": [],
   "source": [
    "gnostic['The Paraphrase Of Shem'] = shem"
   ]
  },
  {
   "cell_type": "markdown",
   "id": "4003048d-3e56-4ba9-b292-b63238b29a48",
   "metadata": {},
   "source": [
    "### ------------------------------------"
   ]
  },
  {
   "cell_type": "code",
   "execution_count": 258,
   "id": "2c533145-e397-4063-8a46-9446535a4205",
   "metadata": {},
   "outputs": [],
   "source": [
    "with open(\"gnostic_clean.json\",\"r\") as f:\n",
    "    gnostic = json.load(f)"
   ]
  },
  {
   "cell_type": "code",
   "execution_count": 260,
   "id": "4016c17d-3566-4608-b3b7-ce4b0ae47358",
   "metadata": {},
   "outputs": [
    {
     "data": {
      "text/plain": [
       "dict_keys(['The Prayer of Apostle Paul', 'The Apocryphon of James', 'The Gospel of Truth', 'The Treatise on the Resurrection', 'The Tripartite Tractate', 'The Apocryphon of John', 'Gospel of Thomas', 'The Gospel of Philip', 'The Hypostasis of The Archons', 'On the Origin of the World', 'The Exegesis on the Soul', 'The Book of Thomas the Contender', 'The Gospel of the Egyptians', 'Eugnostos the Blessed', 'The Sophia of Jesus Christ', 'The Dialogue of the Savior', 'The Apocalypse of Paul', 'The (First) Apocalypse of James ', 'The (Second) Apocalypse of James', 'The Apocalypse of Adam', 'The Acts of Peter and the Twelve Apostles', 'The Thunder, Perfect Mind ', 'Authoritative Teaching', 'The Concept of Our Great Power', 'Plato, Republic 588A-589B', 'The Discourse on the Eighth and Ninth', 'The Prayer of Thanksgiving', 'Asclepius 21-29', 'The Second Treatise of the Great Seth', 'The Apocalypse of Peter', 'The Teachings of Silvanus', 'The Three Steles of Seth', 'Zostrianos', 'The Letter of Peter to Philip', 'Melchizedek', 'The Thought of Norea', 'The Testimony of Truth', 'Marsanes', 'The Interpretation of Knowledge', 'A Valentinian Exposition', 'On the Anointing', 'On the Baptism A', 'On the Baptism B', 'On the Eucharist (A)', 'On the Eucharist (B)', 'Allogenes', 'Hypsiphrone', 'The Sentences of Sextus', 'Trimorphic Protennoia', 'The Paraphrase Of Shem'])"
      ]
     },
     "execution_count": 260,
     "metadata": {},
     "output_type": "execute_result"
    }
   ],
   "source": [
    "gnostic.keys()"
   ]
  },
  {
   "cell_type": "code",
   "execution_count": 272,
   "id": "f2fdec76-0f81-47cb-afb8-0df6bb0b0b56",
   "metadata": {},
   "outputs": [],
   "source": [
    "with open(\"nrsv.json\",\"r\", encoding='utf-8') as f:\n",
    "    canon = json.load(f)"
   ]
  },
  {
   "cell_type": "code",
   "execution_count": 282,
   "id": "1788b49a-fc98-4ab9-a7de-ba43cba10cf9",
   "metadata": {},
   "outputs": [
    {
     "data": {
      "text/plain": [
       "{'1': '“And to the angel of the church in Sardis write: These are the words of him who has the seven spirits of God and the seven stars: “I know your works; you have a name of being alive, but you are dead.',\n",
       " '2': 'Wake up and strengthen what remains and is on the point of death, for I have not found your works perfect in the sight of my God.',\n",
       " '3': 'Remember, then, what you received and heard; obey it and repent. If you do not wake up, I will come like a thief, and you will not know at what hour I will come to you.',\n",
       " '4': 'Yet you have still a few persons in Sardis who have not soiled their clothes; they will walk with me, dressed in white, for they are worthy.',\n",
       " '5': 'If you conquer, you will be clothed like them in white robes, and I will not erase your name from the book of life; I will confess your name before my Father and before his angels.',\n",
       " '6': 'Let anyone who has an ear listen to what the Spirit is saying to the churches.',\n",
       " '7': '“And to the angel of the church in Philadelphia write: These are the words of the Holy One, the True One, who has the key of David, who opens and no one will shut, who shuts and no one opens:',\n",
       " '8': '“I know your works. Look, I have set before you an open door that no one is able to shut. I know that you have but little power, yet you have kept my word and have not denied my name.',\n",
       " '9': 'I will make those of the synagogue of Satan who say that they are Jews and are not but are lying—I will make them come and bow down before your feet, and they will learn that I have loved you.',\n",
       " '10': 'Because you have kept my word of endurance, I will keep you from the hour of trial that is coming on the whole world to test the inhabitants of the earth.',\n",
       " '11': 'I am coming soon; hold fast to what you have, so that no one takes away your crown.',\n",
       " '12': 'If you conquer, I will make you a pillar in the temple of my God; you will never go out of it. I will write on you the name of my God and the name of the city of my God, the new Jerusalem that comes down from my God out of heaven, and my own new name.',\n",
       " '13': 'Let anyone who has an ear listen to what the Spirit is saying to the churches.',\n",
       " '14': '“And to the angel of the church in Laodicea write: The words of the Amen, the faithful and true witness, the origin of God’s creation:',\n",
       " '15': '“I know your works; you are neither cold nor hot. I wish that you were either cold or hot.',\n",
       " '16': 'So, because you are lukewarm and neither cold nor hot, I am about to spit you out of my mouth.',\n",
       " '17': 'For you say, ‘I am rich, I have prospered, and I need nothing.’ You do not realize that you are wretched, pitiable, poor, blind, and naked.',\n",
       " '18': 'Therefore I advise you to buy from me gold refined by fire so that you may be rich, and white robes to clothe yourself and to keep the shame of your nakedness from being seen, and salve to anoint your eyes so that you may see.',\n",
       " '19': 'I reprove and discipline those whom I love. Be earnest, therefore, and repent.',\n",
       " '20': 'Listen! I am standing at the door, knocking; if you hear my voice and open the door, I will come in and eat with you, and you with me.',\n",
       " '21': 'To the one who conquers I will give a place with me on my throne, just as I myself conquered and sat down with my Father on his throne.',\n",
       " '22': 'Let anyone who has an ear listen to what the Spirit is saying to the churches.”'}"
      ]
     },
     "execution_count": 282,
     "metadata": {},
     "output_type": "execute_result"
    }
   ],
   "source": [
    "canon['Revelation']['3']"
   ]
  },
  {
   "cell_type": "code",
   "execution_count": null,
   "id": "5629cf42-7c91-463a-8918-b6fcc445b168",
   "metadata": {},
   "outputs": [],
   "source": []
  }
 ],
 "metadata": {
  "kernelspec": {
   "display_name": "Python [conda env:base] *",
   "language": "python",
   "name": "conda-base-py"
  },
  "language_info": {
   "codemirror_mode": {
    "name": "ipython",
    "version": 3
   },
   "file_extension": ".py",
   "mimetype": "text/x-python",
   "name": "python",
   "nbconvert_exporter": "python",
   "pygments_lexer": "ipython3",
   "version": "3.10.16"
  }
 },
 "nbformat": 4,
 "nbformat_minor": 5
}
